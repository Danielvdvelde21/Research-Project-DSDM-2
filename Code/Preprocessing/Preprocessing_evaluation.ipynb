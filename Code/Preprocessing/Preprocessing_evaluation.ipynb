{
 "cells": [
  {
   "attachments": {},
   "cell_type": "markdown",
   "metadata": {},
   "source": [
    "# KNN"
   ]
  },
  {
   "cell_type": "code",
   "execution_count": 65,
   "metadata": {},
   "outputs": [],
   "source": [
    "import numpy as np\n",
    "import pandas as pd\n",
    "from sklearn.impute import KNNImputer\n",
    "import os\n",
    "import math\n",
    "import tqdm"
   ]
  },
  {
   "cell_type": "code",
   "execution_count": 66,
   "metadata": {},
   "outputs": [],
   "source": [
    "# Move up 2 directories\n",
    "data_directory = '../..' \n",
    "\n",
    "# Load the CSV files\n",
    "asthma_df = pd.read_csv(os.path.join(data_directory, 'Data', 'astma.csv'))"
   ]
  },
  {
   "cell_type": "code",
   "execution_count": 67,
   "metadata": {},
   "outputs": [],
   "source": [
    "# In the asthma dataset there seems to be a problem with HR00 to HR23\n",
    "# The heart rate goes above a million sometimes\n",
    "# It seems like the first couple digits correspond with the expected heart rate.\n",
    "# 2 cases: HR below 100 and HR above 100\n",
    "\n",
    "# Loop through each column in the dataframe\n",
    "for col in asthma_df.loc[:, \"HR00\":\"HR23\"]:\n",
    "    for i in range(len(asthma_df[col])):\n",
    "        if (asthma_df.loc[i, col] > 1000):\n",
    "            # Take first 2 digits of float\n",
    "            first_2_digits = str(asthma_df.loc[i, col])[:2]\n",
    "            temp_number = float(first_2_digits)\n",
    "            # If heart rate lower than 20 it means it should be greater than 100 (assuming heart rates < 200)\n",
    "            if temp_number < 20:\n",
    "                val = str(asthma_df.loc[i, col])[:3] + '.' + str(asthma_df.loc[i, col])[3]\n",
    "                asthma_df.loc[i, col] = float(val)\n",
    "            else:\n",
    "                val = str(asthma_df.loc[i, col])[:2] + '.' + str(asthma_df.loc[i, col])[2]\n",
    "                asthma_df.loc[i, col] = float(val)\n",
    "            pass\n"
   ]
  },
  {
   "cell_type": "code",
   "execution_count": 68,
   "metadata": {},
   "outputs": [],
   "source": [
    "# get index of a random element in a dataframe\n",
    "def get_random_index(df, columns):\n",
    "    # select a random element that is not Nan\n",
    "    # take a random column in columns\n",
    "    random_index = np.random.randint(0, len(df))\n",
    "    random_column = columns[np.random.randint(0, len(columns))]\n",
    "\n",
    "    df.loc[random_index, random_column]\n",
    "\n",
    "    while pd.isna(df.loc[random_index, random_column]):\n",
    "        random_index = np.random.randint(0, len(df))\n",
    "        random_column = columns[np.random.randint(0, len(columns))]\n",
    "\n",
    "    return [random_index, random_column]"
   ]
  },
  {
   "cell_type": "code",
   "execution_count": 69,
   "metadata": {},
   "outputs": [
    {
     "data": {
      "text/plain": [
       "[2215, 'HR03']"
      ]
     },
     "execution_count": 69,
     "metadata": {},
     "output_type": "execute_result"
    }
   ],
   "source": [
    "get_random_index(asthma_df, [\"HR00\", \"HR01\", \"HR02\", \"HR03\", \"HR04\", \"HR05\", \"HR06\", \"HR07\", \"HR08\", \"HR09\", \"HR10\", \"HR11\", \"HR12\", \"HR13\",\n",
    "                \"HR14\", \"HR15\", \"HR16\", \"HR17\", \"HR18\", \"HR19\", \"HR20\", \"HR21\", \"HR22\", \"HR23\"])"
   ]
  },
  {
   "cell_type": "code",
   "execution_count": 76,
   "metadata": {},
   "outputs": [
    {
     "name": "stderr",
     "output_type": "stream",
     "text": [
      "  6%|▌         | 600/10000 [00:11<02:53, 54.14it/s]\n"
     ]
    },
    {
     "ename": "KeyboardInterrupt",
     "evalue": "",
     "output_type": "error",
     "traceback": [
      "\u001b[1;31m---------------------------------------------------------------------------\u001b[0m",
      "\u001b[1;31mKeyboardInterrupt\u001b[0m                         Traceback (most recent call last)",
      "\u001b[1;32mc:\\Users\\Admin\\Documents\\University\\CurrentClass\\Project 1-2\\Research-Project-DSDM-2\\Code\\Preprocessing\\Preprocessing_evaluation.ipynb Cell 7\u001b[0m in \u001b[0;36m<cell line: 5>\u001b[1;34m()\u001b[0m\n\u001b[0;32m      <a href='vscode-notebook-cell:/c%3A/Users/Admin/Documents/University/CurrentClass/Project%201-2/Research-Project-DSDM-2/Code/Preprocessing/Preprocessing_evaluation.ipynb#X11sZmlsZQ%3D%3D?line=8'>9</a>\u001b[0m asthma_df\u001b[39m.\u001b[39mloc[random_index[\u001b[39m0\u001b[39m], random_index[\u001b[39m1\u001b[39m]] \u001b[39m=\u001b[39m np\u001b[39m.\u001b[39mnan\n\u001b[0;32m     <a href='vscode-notebook-cell:/c%3A/Users/Admin/Documents/University/CurrentClass/Project%201-2/Research-Project-DSDM-2/Code/Preprocessing/Preprocessing_evaluation.ipynb#X11sZmlsZQ%3D%3D?line=9'>10</a>\u001b[0m imputer \u001b[39m=\u001b[39m KNNImputer()          \u001b[39m# n_neighbors=2\u001b[39;00m\n\u001b[1;32m---> <a href='vscode-notebook-cell:/c%3A/Users/Admin/Documents/University/CurrentClass/Project%201-2/Research-Project-DSDM-2/Code/Preprocessing/Preprocessing_evaluation.ipynb#X11sZmlsZQ%3D%3D?line=10'>11</a>\u001b[0m asthma_df\u001b[39m.\u001b[39mloc[:, \u001b[39m\"\u001b[39m\u001b[39mHR00\u001b[39m\u001b[39m\"\u001b[39m:\u001b[39m\"\u001b[39m\u001b[39mHR23\u001b[39m\u001b[39m\"\u001b[39m] \u001b[39m=\u001b[39m imputer\u001b[39m.\u001b[39;49mfit_transform(asthma_df\u001b[39m.\u001b[39;49mloc[:, \u001b[39m\"\u001b[39;49m\u001b[39mHR00\u001b[39;49m\u001b[39m\"\u001b[39;49m:\u001b[39m\"\u001b[39;49m\u001b[39mHR23\u001b[39;49m\u001b[39m\"\u001b[39;49m])\n\u001b[0;32m     <a href='vscode-notebook-cell:/c%3A/Users/Admin/Documents/University/CurrentClass/Project%201-2/Research-Project-DSDM-2/Code/Preprocessing/Preprocessing_evaluation.ipynb#X11sZmlsZQ%3D%3D?line=11'>12</a>\u001b[0m \u001b[39m# get the absolute value of the difference between the original value and the imputed value\u001b[39;00m\n\u001b[0;32m     <a href='vscode-notebook-cell:/c%3A/Users/Admin/Documents/University/CurrentClass/Project%201-2/Research-Project-DSDM-2/Code/Preprocessing/Preprocessing_evaluation.ipynb#X11sZmlsZQ%3D%3D?line=12'>13</a>\u001b[0m difference\u001b[39m.\u001b[39mappend(\u001b[39mabs\u001b[39m(tmp \u001b[39m-\u001b[39m asthma_df\u001b[39m.\u001b[39mloc[random_index[\u001b[39m0\u001b[39m], random_index[\u001b[39m1\u001b[39m]]))\n",
      "File \u001b[1;32mc:\\Users\\Admin\\anaconda3\\lib\\site-packages\\sklearn\\base.py:852\u001b[0m, in \u001b[0;36mTransformerMixin.fit_transform\u001b[1;34m(self, X, y, **fit_params)\u001b[0m\n\u001b[0;32m    848\u001b[0m \u001b[39m# non-optimized default implementation; override when a better\u001b[39;00m\n\u001b[0;32m    849\u001b[0m \u001b[39m# method is possible for a given clustering algorithm\u001b[39;00m\n\u001b[0;32m    850\u001b[0m \u001b[39mif\u001b[39;00m y \u001b[39mis\u001b[39;00m \u001b[39mNone\u001b[39;00m:\n\u001b[0;32m    851\u001b[0m     \u001b[39m# fit method of arity 1 (unsupervised transformation)\u001b[39;00m\n\u001b[1;32m--> 852\u001b[0m     \u001b[39mreturn\u001b[39;00m \u001b[39mself\u001b[39;49m\u001b[39m.\u001b[39;49mfit(X, \u001b[39m*\u001b[39;49m\u001b[39m*\u001b[39;49mfit_params)\u001b[39m.\u001b[39;49mtransform(X)\n\u001b[0;32m    853\u001b[0m \u001b[39melse\u001b[39;00m:\n\u001b[0;32m    854\u001b[0m     \u001b[39m# fit method of arity 2 (supervised transformation)\u001b[39;00m\n\u001b[0;32m    855\u001b[0m     \u001b[39mreturn\u001b[39;00m \u001b[39mself\u001b[39m\u001b[39m.\u001b[39mfit(X, y, \u001b[39m*\u001b[39m\u001b[39m*\u001b[39mfit_params)\u001b[39m.\u001b[39mtransform(X)\n",
      "File \u001b[1;32mc:\\Users\\Admin\\anaconda3\\lib\\site-packages\\sklearn\\impute\\_knn.py:336\u001b[0m, in \u001b[0;36mKNNImputer.transform\u001b[1;34m(self, X)\u001b[0m\n\u001b[0;32m    327\u001b[0m \u001b[39m# process in fixed-memory chunks\u001b[39;00m\n\u001b[0;32m    328\u001b[0m gen \u001b[39m=\u001b[39m pairwise_distances_chunked(\n\u001b[0;32m    329\u001b[0m     X[row_missing_idx, :],\n\u001b[0;32m    330\u001b[0m     \u001b[39mself\u001b[39m\u001b[39m.\u001b[39m_fit_X,\n\u001b[1;32m   (...)\u001b[0m\n\u001b[0;32m    334\u001b[0m     reduce_func\u001b[39m=\u001b[39mprocess_chunk,\n\u001b[0;32m    335\u001b[0m )\n\u001b[1;32m--> 336\u001b[0m \u001b[39mfor\u001b[39;00m chunk \u001b[39min\u001b[39;00m gen:\n\u001b[0;32m    337\u001b[0m     \u001b[39m# process_chunk modifies X in place. No return value.\u001b[39;00m\n\u001b[0;32m    338\u001b[0m     \u001b[39mpass\u001b[39;00m\n\u001b[0;32m    340\u001b[0m \u001b[39mreturn\u001b[39;00m \u001b[39msuper\u001b[39m()\u001b[39m.\u001b[39m_concatenate_indicator(X[:, valid_mask], X_indicator)\n",
      "File \u001b[1;32mc:\\Users\\Admin\\anaconda3\\lib\\site-packages\\sklearn\\metrics\\pairwise.py:1717\u001b[0m, in \u001b[0;36mpairwise_distances_chunked\u001b[1;34m(X, Y, reduce_func, metric, n_jobs, working_memory, **kwds)\u001b[0m\n\u001b[0;32m   1715\u001b[0m \u001b[39melse\u001b[39;00m:\n\u001b[0;32m   1716\u001b[0m     X_chunk \u001b[39m=\u001b[39m X[sl]\n\u001b[1;32m-> 1717\u001b[0m D_chunk \u001b[39m=\u001b[39m pairwise_distances(X_chunk, Y, metric\u001b[39m=\u001b[39mmetric, n_jobs\u001b[39m=\u001b[39mn_jobs, \u001b[39m*\u001b[39m\u001b[39m*\u001b[39mkwds)\n\u001b[0;32m   1718\u001b[0m \u001b[39mif\u001b[39;00m (X \u001b[39mis\u001b[39;00m Y \u001b[39mor\u001b[39;00m Y \u001b[39mis\u001b[39;00m \u001b[39mNone\u001b[39;00m) \u001b[39mand\u001b[39;00m PAIRWISE_DISTANCE_FUNCTIONS\u001b[39m.\u001b[39mget(\n\u001b[0;32m   1719\u001b[0m     metric, \u001b[39mNone\u001b[39;00m\n\u001b[0;32m   1720\u001b[0m ) \u001b[39mis\u001b[39;00m euclidean_distances:\n\u001b[0;32m   1721\u001b[0m     \u001b[39m# zeroing diagonal, taking care of aliases of \"euclidean\",\u001b[39;00m\n\u001b[0;32m   1722\u001b[0m     \u001b[39m# i.e. \"l2\"\u001b[39;00m\n\u001b[0;32m   1723\u001b[0m     D_chunk\u001b[39m.\u001b[39mflat[sl\u001b[39m.\u001b[39mstart :: _num_samples(X) \u001b[39m+\u001b[39m \u001b[39m1\u001b[39m] \u001b[39m=\u001b[39m \u001b[39m0\u001b[39m\n",
      "File \u001b[1;32mc:\\Users\\Admin\\anaconda3\\lib\\site-packages\\sklearn\\metrics\\pairwise.py:1889\u001b[0m, in \u001b[0;36mpairwise_distances\u001b[1;34m(X, Y, metric, n_jobs, force_all_finite, **kwds)\u001b[0m\n\u001b[0;32m   1886\u001b[0m         \u001b[39mreturn\u001b[39;00m distance\u001b[39m.\u001b[39msquareform(distance\u001b[39m.\u001b[39mpdist(X, metric\u001b[39m=\u001b[39mmetric, \u001b[39m*\u001b[39m\u001b[39m*\u001b[39mkwds))\n\u001b[0;32m   1887\u001b[0m     func \u001b[39m=\u001b[39m partial(distance\u001b[39m.\u001b[39mcdist, metric\u001b[39m=\u001b[39mmetric, \u001b[39m*\u001b[39m\u001b[39m*\u001b[39mkwds)\n\u001b[1;32m-> 1889\u001b[0m \u001b[39mreturn\u001b[39;00m _parallel_pairwise(X, Y, func, n_jobs, \u001b[39m*\u001b[39m\u001b[39m*\u001b[39mkwds)\n",
      "File \u001b[1;32mc:\\Users\\Admin\\anaconda3\\lib\\site-packages\\sklearn\\metrics\\pairwise.py:1430\u001b[0m, in \u001b[0;36m_parallel_pairwise\u001b[1;34m(X, Y, func, n_jobs, **kwds)\u001b[0m\n\u001b[0;32m   1427\u001b[0m X, Y, dtype \u001b[39m=\u001b[39m _return_float_dtype(X, Y)\n\u001b[0;32m   1429\u001b[0m \u001b[39mif\u001b[39;00m effective_n_jobs(n_jobs) \u001b[39m==\u001b[39m \u001b[39m1\u001b[39m:\n\u001b[1;32m-> 1430\u001b[0m     \u001b[39mreturn\u001b[39;00m func(X, Y, \u001b[39m*\u001b[39m\u001b[39m*\u001b[39mkwds)\n\u001b[0;32m   1432\u001b[0m \u001b[39m# enforce a threading backend to prevent data communication overhead\u001b[39;00m\n\u001b[0;32m   1433\u001b[0m fd \u001b[39m=\u001b[39m delayed(_dist_wrapper)\n",
      "File \u001b[1;32mc:\\Users\\Admin\\anaconda3\\lib\\site-packages\\sklearn\\metrics\\pairwise.py:471\u001b[0m, in \u001b[0;36mnan_euclidean_distances\u001b[1;34m(X, Y, squared, missing_values, copy)\u001b[0m\n\u001b[0;32m    468\u001b[0m X[missing_X] \u001b[39m=\u001b[39m \u001b[39m0\u001b[39m\n\u001b[0;32m    469\u001b[0m Y[missing_Y] \u001b[39m=\u001b[39m \u001b[39m0\u001b[39m\n\u001b[1;32m--> 471\u001b[0m distances \u001b[39m=\u001b[39m euclidean_distances(X, Y, squared\u001b[39m=\u001b[39;49m\u001b[39mTrue\u001b[39;49;00m)\n\u001b[0;32m    473\u001b[0m \u001b[39m# Adjust distances for missing values\u001b[39;00m\n\u001b[0;32m    474\u001b[0m XX \u001b[39m=\u001b[39m X \u001b[39m*\u001b[39m X\n",
      "File \u001b[1;32mc:\\Users\\Admin\\anaconda3\\lib\\site-packages\\sklearn\\metrics\\pairwise.py:302\u001b[0m, in \u001b[0;36meuclidean_distances\u001b[1;34m(X, Y, Y_norm_squared, squared, X_norm_squared)\u001b[0m\n\u001b[0;32m    226\u001b[0m \u001b[39mdef\u001b[39;00m \u001b[39meuclidean_distances\u001b[39m(\n\u001b[0;32m    227\u001b[0m     X, Y\u001b[39m=\u001b[39m\u001b[39mNone\u001b[39;00m, \u001b[39m*\u001b[39m, Y_norm_squared\u001b[39m=\u001b[39m\u001b[39mNone\u001b[39;00m, squared\u001b[39m=\u001b[39m\u001b[39mFalse\u001b[39;00m, X_norm_squared\u001b[39m=\u001b[39m\u001b[39mNone\u001b[39;00m\n\u001b[0;32m    228\u001b[0m ):\n\u001b[0;32m    229\u001b[0m     \u001b[39m\"\"\"\u001b[39;00m\n\u001b[0;32m    230\u001b[0m \u001b[39m    Compute the distance matrix between each pair from a vector array X and Y.\u001b[39;00m\n\u001b[0;32m    231\u001b[0m \n\u001b[1;32m   (...)\u001b[0m\n\u001b[0;32m    300\u001b[0m \u001b[39m           [1.41421356]])\u001b[39;00m\n\u001b[0;32m    301\u001b[0m \u001b[39m    \"\"\"\u001b[39;00m\n\u001b[1;32m--> 302\u001b[0m     X, Y \u001b[39m=\u001b[39m check_pairwise_arrays(X, Y)\n\u001b[0;32m    304\u001b[0m     \u001b[39mif\u001b[39;00m X_norm_squared \u001b[39mis\u001b[39;00m \u001b[39mnot\u001b[39;00m \u001b[39mNone\u001b[39;00m:\n\u001b[0;32m    305\u001b[0m         X_norm_squared \u001b[39m=\u001b[39m check_array(X_norm_squared, ensure_2d\u001b[39m=\u001b[39m\u001b[39mFalse\u001b[39;00m)\n",
      "File \u001b[1;32mc:\\Users\\Admin\\anaconda3\\lib\\site-packages\\sklearn\\metrics\\pairwise.py:164\u001b[0m, in \u001b[0;36mcheck_pairwise_arrays\u001b[1;34m(X, Y, precomputed, dtype, accept_sparse, force_all_finite, copy)\u001b[0m\n\u001b[0;32m    155\u001b[0m \u001b[39melse\u001b[39;00m:\n\u001b[0;32m    156\u001b[0m     X \u001b[39m=\u001b[39m check_array(\n\u001b[0;32m    157\u001b[0m         X,\n\u001b[0;32m    158\u001b[0m         accept_sparse\u001b[39m=\u001b[39maccept_sparse,\n\u001b[1;32m   (...)\u001b[0m\n\u001b[0;32m    162\u001b[0m         estimator\u001b[39m=\u001b[39mestimator,\n\u001b[0;32m    163\u001b[0m     )\n\u001b[1;32m--> 164\u001b[0m     Y \u001b[39m=\u001b[39m check_array(\n\u001b[0;32m    165\u001b[0m         Y,\n\u001b[0;32m    166\u001b[0m         accept_sparse\u001b[39m=\u001b[39;49maccept_sparse,\n\u001b[0;32m    167\u001b[0m         dtype\u001b[39m=\u001b[39;49mdtype,\n\u001b[0;32m    168\u001b[0m         copy\u001b[39m=\u001b[39;49mcopy,\n\u001b[0;32m    169\u001b[0m         force_all_finite\u001b[39m=\u001b[39;49mforce_all_finite,\n\u001b[0;32m    170\u001b[0m         estimator\u001b[39m=\u001b[39;49mestimator,\n\u001b[0;32m    171\u001b[0m     )\n\u001b[0;32m    173\u001b[0m \u001b[39mif\u001b[39;00m precomputed:\n\u001b[0;32m    174\u001b[0m     \u001b[39mif\u001b[39;00m X\u001b[39m.\u001b[39mshape[\u001b[39m1\u001b[39m] \u001b[39m!=\u001b[39m Y\u001b[39m.\u001b[39mshape[\u001b[39m0\u001b[39m]:\n",
      "File \u001b[1;32mc:\\Users\\Admin\\anaconda3\\lib\\site-packages\\sklearn\\utils\\validation.py:800\u001b[0m, in \u001b[0;36mcheck_array\u001b[1;34m(array, accept_sparse, accept_large_sparse, dtype, order, copy, force_all_finite, ensure_2d, allow_nd, ensure_min_samples, ensure_min_features, estimator)\u001b[0m\n\u001b[0;32m    794\u001b[0m         \u001b[39mraise\u001b[39;00m \u001b[39mValueError\u001b[39;00m(\n\u001b[0;32m    795\u001b[0m             \u001b[39m\"\u001b[39m\u001b[39mFound array with dim \u001b[39m\u001b[39m%d\u001b[39;00m\u001b[39m. \u001b[39m\u001b[39m%s\u001b[39;00m\u001b[39m expected <= 2.\u001b[39m\u001b[39m\"\u001b[39m\n\u001b[0;32m    796\u001b[0m             \u001b[39m%\u001b[39m (array\u001b[39m.\u001b[39mndim, estimator_name)\n\u001b[0;32m    797\u001b[0m         )\n\u001b[0;32m    799\u001b[0m     \u001b[39mif\u001b[39;00m force_all_finite:\n\u001b[1;32m--> 800\u001b[0m         _assert_all_finite(array, allow_nan\u001b[39m=\u001b[39;49mforce_all_finite \u001b[39m==\u001b[39;49m \u001b[39m\"\u001b[39;49m\u001b[39mallow-nan\u001b[39;49m\u001b[39m\"\u001b[39;49m)\n\u001b[0;32m    802\u001b[0m \u001b[39mif\u001b[39;00m ensure_min_samples \u001b[39m>\u001b[39m \u001b[39m0\u001b[39m:\n\u001b[0;32m    803\u001b[0m     n_samples \u001b[39m=\u001b[39m _num_samples(array)\n",
      "File \u001b[1;32mc:\\Users\\Admin\\anaconda3\\lib\\site-packages\\sklearn\\utils\\validation.py:103\u001b[0m, in \u001b[0;36m_assert_all_finite\u001b[1;34m(X, allow_nan, msg_dtype)\u001b[0m\n\u001b[0;32m     98\u001b[0m \u001b[39m# First try an O(n) time, O(1) space solution for the common case that\u001b[39;00m\n\u001b[0;32m     99\u001b[0m \u001b[39m# everything is finite; fall back to O(n) space np.isfinite to prevent\u001b[39;00m\n\u001b[0;32m    100\u001b[0m \u001b[39m# false positives from overflow in sum method. The sum is also calculated\u001b[39;00m\n\u001b[0;32m    101\u001b[0m \u001b[39m# safely to reduce dtype induced overflows.\u001b[39;00m\n\u001b[0;32m    102\u001b[0m is_float \u001b[39m=\u001b[39m X\u001b[39m.\u001b[39mdtype\u001b[39m.\u001b[39mkind \u001b[39min\u001b[39;00m \u001b[39m\"\u001b[39m\u001b[39mfc\u001b[39m\u001b[39m\"\u001b[39m\n\u001b[1;32m--> 103\u001b[0m \u001b[39mif\u001b[39;00m is_float \u001b[39mand\u001b[39;00m (np\u001b[39m.\u001b[39misfinite(_safe_accumulator_op(np\u001b[39m.\u001b[39;49msum, X))):\n\u001b[0;32m    104\u001b[0m     \u001b[39mpass\u001b[39;00m\n\u001b[0;32m    105\u001b[0m \u001b[39melif\u001b[39;00m is_float:\n",
      "File \u001b[1;32mc:\\Users\\Admin\\anaconda3\\lib\\site-packages\\sklearn\\utils\\extmath.py:895\u001b[0m, in \u001b[0;36m_safe_accumulator_op\u001b[1;34m(op, x, *args, **kwargs)\u001b[0m\n\u001b[0;32m    893\u001b[0m     result \u001b[39m=\u001b[39m op(x, \u001b[39m*\u001b[39margs, \u001b[39m*\u001b[39m\u001b[39m*\u001b[39mkwargs, dtype\u001b[39m=\u001b[39mnp\u001b[39m.\u001b[39mfloat64)\n\u001b[0;32m    894\u001b[0m \u001b[39melse\u001b[39;00m:\n\u001b[1;32m--> 895\u001b[0m     result \u001b[39m=\u001b[39m op(x, \u001b[39m*\u001b[39margs, \u001b[39m*\u001b[39m\u001b[39m*\u001b[39mkwargs)\n\u001b[0;32m    896\u001b[0m \u001b[39mreturn\u001b[39;00m result\n",
      "File \u001b[1;32m<__array_function__ internals>:180\u001b[0m, in \u001b[0;36msum\u001b[1;34m(*args, **kwargs)\u001b[0m\n",
      "File \u001b[1;32mc:\\Users\\Admin\\anaconda3\\lib\\site-packages\\numpy\\core\\fromnumeric.py:2296\u001b[0m, in \u001b[0;36msum\u001b[1;34m(a, axis, dtype, out, keepdims, initial, where)\u001b[0m\n\u001b[0;32m   2293\u001b[0m         \u001b[39mreturn\u001b[39;00m out\n\u001b[0;32m   2294\u001b[0m     \u001b[39mreturn\u001b[39;00m res\n\u001b[1;32m-> 2296\u001b[0m \u001b[39mreturn\u001b[39;00m _wrapreduction(a, np\u001b[39m.\u001b[39;49madd, \u001b[39m'\u001b[39;49m\u001b[39msum\u001b[39;49m\u001b[39m'\u001b[39;49m, axis, dtype, out, keepdims\u001b[39m=\u001b[39;49mkeepdims,\n\u001b[0;32m   2297\u001b[0m                       initial\u001b[39m=\u001b[39;49minitial, where\u001b[39m=\u001b[39;49mwhere)\n",
      "File \u001b[1;32mc:\\Users\\Admin\\anaconda3\\lib\\site-packages\\numpy\\core\\fromnumeric.py:86\u001b[0m, in \u001b[0;36m_wrapreduction\u001b[1;34m(obj, ufunc, method, axis, dtype, out, **kwargs)\u001b[0m\n\u001b[0;32m     83\u001b[0m         \u001b[39melse\u001b[39;00m:\n\u001b[0;32m     84\u001b[0m             \u001b[39mreturn\u001b[39;00m reduction(axis\u001b[39m=\u001b[39maxis, out\u001b[39m=\u001b[39mout, \u001b[39m*\u001b[39m\u001b[39m*\u001b[39mpasskwargs)\n\u001b[1;32m---> 86\u001b[0m \u001b[39mreturn\u001b[39;00m ufunc\u001b[39m.\u001b[39mreduce(obj, axis, dtype, out, \u001b[39m*\u001b[39m\u001b[39m*\u001b[39mpasskwargs)\n",
      "\u001b[1;31mKeyboardInterrupt\u001b[0m: "
     ]
    }
   ],
   "source": [
    "# Play with the number of neighbors\n",
    "# Look at the kids with the fewest missing data\n",
    "k = []\n",
    "for i in range(1, 6):\n",
    "    difference = []\n",
    "    for i in tqdm.tqdm(range(10000)):\n",
    "        random_index = get_random_index(asthma_df, [\"HR00\", \"HR01\", \"HR02\", \"HR03\", \"HR04\", \"HR05\", \"HR06\", \"HR07\", \"HR08\", \"HR09\", \"HR10\", \"HR11\", \"HR12\", \"HR13\",\n",
    "                    \"HR14\", \"HR15\", \"HR16\", \"HR17\", \"HR18\", \"HR19\", \"HR20\", \"HR21\", \"HR22\", \"HR23\"])\n",
    "        tmp = asthma_df.loc[random_index[0], random_index[1]]\n",
    "        asthma_df.loc[random_index[0], random_index[1]] = np.nan\n",
    "        imputer = KNNImputer()          # n_neighbors=2\n",
    "        asthma_df.loc[:, \"HR00\":\"HR23\"] = imputer.fit_transform(asthma_df.loc[:, \"HR00\":\"HR23\"])\n",
    "        # get the absolute value of the difference between the original value and the imputed value\n",
    "        difference.append(abs(tmp - asthma_df.loc[random_index[0], random_index[1]]))\n",
    "    k.append(math.sum(difference))\n",
    "\n",
    "\n",
    "print(k)"
   ]
  },
  {
   "cell_type": "code",
   "execution_count": null,
   "metadata": {},
   "outputs": [],
   "source": []
  }
 ],
 "metadata": {
  "kernelspec": {
   "display_name": "base",
   "language": "python",
   "name": "python3"
  },
  "language_info": {
   "codemirror_mode": {
    "name": "ipython",
    "version": 3
   },
   "file_extension": ".py",
   "mimetype": "text/x-python",
   "name": "python",
   "nbconvert_exporter": "python",
   "pygments_lexer": "ipython3",
   "version": "3.9.12"
  },
  "orig_nbformat": 4
 },
 "nbformat": 4,
 "nbformat_minor": 2
}
