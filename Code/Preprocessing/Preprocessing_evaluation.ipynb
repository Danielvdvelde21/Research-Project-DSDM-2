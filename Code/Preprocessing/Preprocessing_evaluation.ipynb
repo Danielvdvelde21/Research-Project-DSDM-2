{
 "cells": [
  {
   "attachments": {},
   "cell_type": "markdown",
   "metadata": {},
   "source": [
    "# KNN"
   ]
  },
  {
   "cell_type": "code",
   "execution_count": 38,
   "metadata": {},
   "outputs": [],
   "source": [
    "import numpy as np\n",
    "import pandas as pd\n",
    "from sklearn.impute import KNNImputer\n",
    "import os"
   ]
  },
  {
   "cell_type": "code",
   "execution_count": 39,
   "metadata": {},
   "outputs": [],
   "source": [
    "# Move up 2 directories\n",
    "data_directory = '../..' \n",
    "\n",
    "# Load the CSV files\n",
    "asthma_df = pd.read_csv(os.path.join(data_directory, 'Data', 'astma.csv'))"
   ]
  },
  {
   "cell_type": "code",
   "execution_count": 40,
   "metadata": {},
   "outputs": [],
   "source": [
    "# In the asthma dataset there seems to be a problem with HR00 to HR23\n",
    "# The heart rate goes above a million sometimes\n",
    "# It seems like the first couple digits correspond with the expected heart rate.\n",
    "# 2 cases: HR below 100 and HR above 100\n",
    "\n",
    "# Loop through each column in the dataframe\n",
    "for col in asthma_df.loc[:, \"HR00\":\"HR23\"]:\n",
    "    for i in range(len(asthma_df[col])):\n",
    "        if (asthma_df.loc[i, col] > 1000):\n",
    "            # Take first 2 digits of float\n",
    "            first_2_digits = str(asthma_df.loc[i, col])[:2]\n",
    "            temp_number = float(first_2_digits)\n",
    "            # If heart rate lower than 20 it means it should be greater than 100 (assuming heart rates < 200)\n",
    "            if temp_number < 20:\n",
    "                val = str(asthma_df.loc[i, col])[:3] + '.' + str(asthma_df.loc[i, col])[3]\n",
    "                asthma_df.loc[i, col] = float(val)\n",
    "            else:\n",
    "                val = str(asthma_df.loc[i, col])[:2] + '.' + str(asthma_df.loc[i, col])[2]\n",
    "                asthma_df.loc[i, col] = float(val)\n",
    "            pass\n"
   ]
  },
  {
   "cell_type": "code",
   "execution_count": 41,
   "metadata": {},
   "outputs": [],
   "source": [
    "# get index of a random element in a dataframe\n",
    "def get_random_index(df, columns):\n",
    "    # select a random element that is not Nan\n",
    "    # take a random column in columns\n",
    "    random_index = np.random.randint(0, len(df))\n",
    "    random_column = columns[np.random.randint(0, len(columns))]\n",
    "\n",
    "    df.loc[random_index, random_column]\n",
    "\n",
    "    while pd.isna(df.loc[random_index, random_column]):\n",
    "        random_index = np.random.randint(0, len(df))\n",
    "        random_column = columns[np.random.randint(0, len(columns))]\n",
    "\n",
    "    return [random_index, random_column]"
   ]
  },
  {
   "cell_type": "code",
   "execution_count": 42,
   "metadata": {},
   "outputs": [
    {
     "data": {
      "text/plain": [
       "[2508, 'HR23']"
      ]
     },
     "execution_count": 42,
     "metadata": {},
     "output_type": "execute_result"
    }
   ],
   "source": [
    "get_random_index(asthma_df, [\"HR00\", \"HR01\", \"HR02\", \"HR03\", \"HR04\", \"HR05\", \"HR06\", \"HR07\", \"HR08\", \"HR09\", \"HR10\", \"HR11\", \"HR12\", \"HR13\",\n",
    "                \"HR14\", \"HR15\", \"HR16\", \"HR17\", \"HR18\", \"HR19\", \"HR20\", \"HR21\", \"HR22\", \"HR23\"])"
   ]
  },
  {
   "cell_type": "code",
   "execution_count": 43,
   "metadata": {},
   "outputs": [
    {
     "name": "stdout",
     "output_type": "stream",
     "text": [
      "-13.939999999999998\n",
      "9.469999999999999\n",
      "-1.4899999999999949\n",
      "-15.292000000000016\n",
      "3.319999999999979\n",
      "11.459999999999994\n",
      "2.1799999999999926\n",
      "-5.140000000000001\n",
      "12.019999999999982\n",
      "-18.539999999999992\n"
     ]
    }
   ],
   "source": [
    "for i in range(10):\n",
    "    random_index = get_random_index(asthma_df, [\"HR00\", \"HR01\", \"HR02\", \"HR03\", \"HR04\", \"HR05\", \"HR06\", \"HR07\", \"HR08\", \"HR09\", \"HR10\", \"HR11\", \"HR12\", \"HR13\",\n",
    "                \"HR14\", \"HR15\", \"HR16\", \"HR17\", \"HR18\", \"HR19\", \"HR20\", \"HR21\", \"HR22\", \"HR23\"])\n",
    "    tmp = asthma_df.loc[random_index[0], random_index[1]]\n",
    "    asthma_df.loc[random_index[0], random_index[1]] = np.nan\n",
    "    imputer = KNNImputer()          # n_neighbors=2\n",
    "    asthma_df.loc[:, \"HR00\":\"HR23\"] = imputer.fit_transform(asthma_df.loc[:, \"HR00\":\"HR23\"])\n",
    "    difference = tmp - asthma_df.loc[random_index[0], random_index[1]]\n",
    "    print(difference)"
   ]
  },
  {
   "cell_type": "code",
   "execution_count": null,
   "metadata": {},
   "outputs": [],
   "source": []
  }
 ],
 "metadata": {
  "kernelspec": {
   "display_name": "base",
   "language": "python",
   "name": "python3"
  },
  "language_info": {
   "codemirror_mode": {
    "name": "ipython",
    "version": 3
   },
   "file_extension": ".py",
   "mimetype": "text/x-python",
   "name": "python",
   "nbconvert_exporter": "python",
   "pygments_lexer": "ipython3",
   "version": "3.9.12"
  },
  "orig_nbformat": 4
 },
 "nbformat": 4,
 "nbformat_minor": 2
}
