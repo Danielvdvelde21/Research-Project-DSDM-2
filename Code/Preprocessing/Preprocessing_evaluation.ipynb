{
 "cells": [
  {
   "attachments": {},
   "cell_type": "markdown",
   "metadata": {},
   "source": [
    "# KNN"
   ]
  },
  {
   "cell_type": "code",
   "execution_count": 110,
   "metadata": {},
   "outputs": [],
   "source": [
    "import numpy as np\n",
    "import pandas as pd\n",
    "from sklearn.impute import KNNImputer\n",
    "import os\n",
    "import math\n",
    "import tqdm"
   ]
  },
  {
   "cell_type": "code",
   "execution_count": 111,
   "metadata": {},
   "outputs": [],
   "source": [
    "# Move up 2 directories\n",
    "data_directory = '../..' \n",
    "\n",
    "# Load the CSV files\n",
    "asthma_df = pd.read_csv(os.path.join(data_directory, 'Data', 'astma.csv'))"
   ]
  },
  {
   "cell_type": "code",
   "execution_count": 112,
   "metadata": {},
   "outputs": [],
   "source": [
    "# In the asthma dataset there seems to be a problem with HR00 to HR23\n",
    "# The heart rate goes above a million sometimes\n",
    "# It seems like the first couple digits correspond with the expected heart rate.\n",
    "# 2 cases: HR below 100 and HR above 100\n",
    "\n",
    "# Loop through each column in the dataframe\n",
    "def preprocess(asthma_df):\n",
    "    for col in asthma_df.loc[:, \"HR00\":\"HR23\"]:\n",
    "        for i in range(len(asthma_df[col])):\n",
    "            if (asthma_df.loc[i, col] > 1000):\n",
    "                # Take first 2 digits of float\n",
    "                first_2_digits = str(asthma_df.loc[i, col])[:2]\n",
    "                temp_number = float(first_2_digits)\n",
    "                # If heart rate lower than 20 it means it should be greater than 100 (assuming heart rates < 200)\n",
    "                if temp_number < 20:\n",
    "                    val = str(asthma_df.loc[i, col])[:3] + '.' + str(asthma_df.loc[i, col])[3]\n",
    "                    asthma_df.loc[i, col] = float(val)\n",
    "                else:\n",
    "                    val = str(asthma_df.loc[i, col])[:2] + '.' + str(asthma_df.loc[i, col])[2]\n",
    "                    asthma_df.loc[i, col] = float(val)\n",
    "                pass\n",
    "    return asthma_df\n"
   ]
  },
  {
   "cell_type": "code",
   "execution_count": 113,
   "metadata": {},
   "outputs": [],
   "source": [
    "# get index of a random element in a dataframe\n",
    "def get_random_index(df, columns):\n",
    "    # select a random element that is not Nan\n",
    "    # take a random column in columns\n",
    "    random_index = np.random.randint(0, len(df))\n",
    "    random_column = columns[np.random.randint(0, len(columns))]\n",
    "\n",
    "    df.loc[random_index, random_column]\n",
    "\n",
    "    while pd.isna(df.loc[random_index, random_column]):\n",
    "        random_index = np.random.randint(0, len(df))\n",
    "        random_column = columns[np.random.randint(0, len(columns))]\n",
    "\n",
    "    return [random_index, random_column]"
   ]
  },
  {
   "cell_type": "code",
   "execution_count": 115,
   "metadata": {},
   "outputs": [
    {
     "name": "stderr",
     "output_type": "stream",
     "text": [
      "100%|██████████| 1000/1000 [54:15<00:00,  3.26s/it]\n",
      "100%|██████████| 1000/1000 [51:19<00:00,  3.08s/it]\n",
      "100%|██████████| 1000/1000 [52:11<00:00,  3.13s/it] \n",
      "100%|██████████| 1000/1000 [38:29<00:00,  2.31s/it]\n",
      "100%|██████████| 1000/1000 [38:37<00:00,  2.32s/it]"
     ]
    },
    {
     "name": "stdout",
     "output_type": "stream",
     "text": [
      "[9886.800000000008, 8846.235000000004, 7750.6833333333425, 7681.775000000005, 7417.959999999996]\n"
     ]
    },
    {
     "name": "stderr",
     "output_type": "stream",
     "text": [
      "\n"
     ]
    }
   ],
   "source": [
    "# Play with the number of neighbors\n",
    "# Look at the kids with the fewest missing data\n",
    "k = []\n",
    "for j in range(1, 6):\n",
    "    difference = []\n",
    "    for i in tqdm.tqdm(range(1000)):\n",
    "        asthma_df = preprocess(pd.read_csv(os.path.join(data_directory, 'Data', 'astma.csv')))\n",
    "        random_index = get_random_index(asthma_df, [\"HR00\", \"HR01\", \"HR02\", \"HR03\", \"HR04\", \"HR05\", \"HR06\", \"HR07\", \"HR08\", \"HR09\", \"HR10\", \"HR11\", \"HR12\", \"HR13\",\n",
    "                    \"HR14\", \"HR15\", \"HR16\", \"HR17\", \"HR18\", \"HR19\", \"HR20\", \"HR21\", \"HR22\", \"HR23\"])\n",
    "        tmp = asthma_df.loc[random_index[0], random_index[1]]\n",
    "        asthma_df.loc[random_index[0], random_index[1]] = np.nan\n",
    "        imputer = KNNImputer(n_neighbors = j)          # n_neighbors=2\n",
    "        asthma_df.loc[:, \"HR00\":\"HR23\"] = imputer.fit_transform(asthma_df.loc[:, \"HR00\":\"HR23\"])\n",
    "        # get the absolute value of the difference between the original value and the imputed value\n",
    "        difference.append(abs(tmp - asthma_df.loc[random_index[0], random_index[1]]))\n",
    "    k.append(sum(difference))\n",
    "\n",
    "\n",
    "print(k)"
   ]
  },
  {
   "cell_type": "code",
   "execution_count": 116,
   "metadata": {},
   "outputs": [
    {
     "name": "stdout",
     "output_type": "stream",
     "text": [
      "[9886.800000000008, 8846.235000000004, 7750.6833333333425, 7681.775000000005, 7417.959999999996]\n"
     ]
    }
   ],
   "source": [
    "print(k)"
   ]
  },
  {
   "cell_type": "code",
   "execution_count": 102,
   "metadata": {},
   "outputs": [
    {
     "name": "stderr",
     "output_type": "stream",
     "text": [
      "100%|██████████| 10000/10000 [02:11<00:00, 76.20it/s]\n",
      "100%|██████████| 10000/10000 [01:59<00:00, 83.39it/s]\n",
      "100%|██████████| 10000/10000 [02:12<00:00, 75.40it/s]\n",
      "100%|██████████| 10000/10000 [02:58<00:00, 56.15it/s]\n",
      "100%|██████████| 10000/10000 [02:25<00:00, 68.87it/s]\n",
      "100%|██████████| 10000/10000 [01:53<00:00, 88.20it/s]\n",
      "100%|██████████| 10000/10000 [01:49<00:00, 91.11it/s]\n",
      "100%|██████████| 10000/10000 [01:48<00:00, 92.39it/s]\n",
      "100%|██████████| 10000/10000 [01:54<00:00, 87.47it/s]\n",
      "100%|██████████| 10000/10000 [01:51<00:00, 90.05it/s]\n"
     ]
    }
   ],
   "source": [
    "k = []\n",
    "for j in range(10, 20):\n",
    "    difference = []\n",
    "    for i in tqdm.tqdm(range(10000)):\n",
    "        random_index = get_random_index(asthma_df, [\"HR00\", \"HR01\", \"HR02\", \"HR03\", \"HR04\", \"HR05\", \"HR06\", \"HR07\", \"HR08\", \"HR09\", \"HR10\", \"HR11\", \"HR12\", \"HR13\",\n",
    "                    \"HR14\", \"HR15\", \"HR16\", \"HR17\", \"HR18\", \"HR19\", \"HR20\", \"HR21\", \"HR22\", \"HR23\"])\n",
    "        tmp = asthma_df.loc[random_index[0], random_index[1]]\n",
    "        asthma_df.loc[random_index[0], random_index[1]] = np.nan\n",
    "        imputer = KNNImputer(n_neighbors = j)          # n_neighbors=2\n",
    "        asthma_df.loc[:, \"HR00\":\"HR23\"] = imputer.fit_transform(asthma_df.loc[:, \"HR00\":\"HR23\"])\n",
    "        # get the absolute value of the difference between the original value and the imputed value\n",
    "        difference.append(abs(tmp - asthma_df.loc[random_index[0], random_index[1]]))\n",
    "    k.append(sum(difference))"
   ]
  },
  {
   "cell_type": "code",
   "execution_count": 103,
   "metadata": {},
   "outputs": [
    {
     "name": "stdout",
     "output_type": "stream",
     "text": [
      "[20215.63292948599, 18617.698144328155, 17360.77517638567, 16301.231740872949, 15287.57299783265, 14196.36419843131, 13318.431648314765, 12265.154200059853, 11843.357969773851, 10958.839494960448]\n"
     ]
    }
   ],
   "source": [
    "print(k)"
   ]
  },
  {
   "attachments": {},
   "cell_type": "markdown",
   "metadata": {},
   "source": [
    "## Compute the kids with the fewest missing values"
   ]
  },
  {
   "cell_type": "code",
   "execution_count": 104,
   "metadata": {},
   "outputs": [],
   "source": [
    "def extractChild(df):\n",
    "\n",
    "    # Create a new database per children and save it into a list of all the same subject numbers.\n",
    "    df_children = []    # List of all the children\n",
    "    \n",
    "    # Loop through all the subject numbers\n",
    "    for subject in df['SubjectNr'].unique():\n",
    "        df_children.append(df[df['SubjectNr'] == subject])\n",
    "    \n",
    "    return df_children"
   ]
  },
  {
   "cell_type": "code",
   "execution_count": 109,
   "metadata": {},
   "outputs": [
    {
     "name": "stdout",
     "output_type": "stream",
     "text": [
      "[(0, 24), (1, 91), (2, 72), (3, 15), (4, 23), (5, 16), (6, 76), (7, 61), (8, 25), (9, 53), (10, 85), (11, 273), (12, 56), (13, 230), (14, 42), (15, 613), (16, 108), (17, 36), (18, 16), (19, 13), (20, 18), (21, 100), (22, 98), (23, 108), (24, 42), (25, 39), (26, 40), (27, 163), (28, 47), (29, 420), (30, 109), (31, 21), (32, 38), (33, 36), (34, 37), (35, 460), (36, 24), (37, 23), (38, 22), (39, 93), (40, 36), (41, 47), (42, 345), (43, 28), (44, 27), (45, 28), (46, 431), (47, 52), (48, 156), (49, 130), (50, 29), (51, 39), (52, 76), (53, 411), (54, 92), (55, 225), (56, 44), (57, 190), (58, 41), (59, 284), (60, 19), (61, 19), (62, 72), (63, 38), (64, 20), (65, 54), (66, 43), (67, 69), (68, 42), (69, 26), (70, 82), (71, 26), (72, 124), (73, 67), (74, 38), (75, 40), (76, 28), (77, 27), (78, 60), (79, 213), (80, 131), (81, 42), (82, 102), (83, 32), (84, 32), (85, 293), (86, 117), (87, 59), (88, 46), (89, 20)]\n",
      "[(19, 13), (3, 15), (5, 16), (18, 16), (20, 18), (60, 19), (61, 19), (64, 20), (89, 20), (31, 21), (38, 22), (4, 23), (37, 23), (0, 24), (36, 24), (8, 25), (69, 26), (71, 26), (44, 27), (77, 27), (43, 28), (45, 28), (76, 28), (50, 29), (83, 32), (84, 32), (17, 36), (33, 36), (40, 36), (34, 37), (32, 38), (63, 38), (74, 38), (25, 39), (51, 39), (26, 40), (75, 40), (58, 41), (14, 42), (24, 42), (68, 42), (81, 42), (66, 43), (56, 44), (88, 46), (28, 47), (41, 47), (47, 52), (9, 53), (65, 54), (12, 56), (87, 59), (78, 60), (7, 61), (73, 67), (67, 69), (2, 72), (62, 72), (6, 76), (52, 76), (70, 82), (10, 85), (1, 91), (54, 92), (39, 93), (22, 98), (21, 100), (82, 102), (16, 108), (23, 108), (30, 109), (86, 117), (72, 124), (49, 130), (80, 131), (48, 156), (27, 163), (57, 190), (79, 213), (55, 225), (13, 230), (11, 273), (59, 284), (85, 293), (42, 345), (53, 411), (29, 420), (46, 431), (35, 460), (15, 613)]\n"
     ]
    }
   ],
   "source": [
    "# Move up 2 directories\n",
    "data_directory = '../..' \n",
    "\n",
    "# Load the CSV files\n",
    "asthma_df = pd.read_csv(os.path.join(data_directory, 'Data', 'astma.csv'))\n",
    "\n",
    "asthma_df_children = extractChild(asthma_df)\n",
    "\n",
    "counter = []\n",
    "#for every child compute the number of Nan in the HR columns\n",
    "for i in range(len(asthma_df_children)):\n",
    "    counter.append((i, asthma_df_children[i].loc[:, \"HR00\":\"HR23\"].isna().sum().sum()))\n",
    "\n",
    "print(counter)\n",
    "\n",
    "# sort the counter list by the number of Nan\n",
    "counter.sort(key=lambda x: x[1])\n",
    "\n",
    "print(counter)"
   ]
  },
  {
   "cell_type": "code",
   "execution_count": null,
   "metadata": {},
   "outputs": [],
   "source": [
    "k = []\n",
    "for j in range(10, 20):\n",
    "    difference = []\n",
    "    for i in tqdm.tqdm(range(10000)):\n",
    "        random_index = get_random_index(asthma_df, [\"HR00\", \"HR01\", \"HR02\", \"HR03\", \"HR04\", \"HR05\", \"HR06\", \"HR07\", \"HR08\", \"HR09\", \"HR10\", \"HR11\", \"HR12\", \"HR13\",\n",
    "                    \"HR14\", \"HR15\", \"HR16\", \"HR17\", \"HR18\", \"HR19\", \"HR20\", \"HR21\", \"HR22\", \"HR23\"])\n",
    "        tmp = asthma_df.loc[random_index[0], random_index[1]]\n",
    "        asthma_df.loc[random_index[0], random_index[1]] = np.nan\n",
    "        imputer = KNNImputer(n_neighbors = j)          # n_neighbors=2\n",
    "        asthma_df.loc[:, \"HR00\":\"HR23\"] = imputer.fit_transform(asthma_df.loc[:, \"HR00\":\"HR23\"])\n",
    "        # get the absolute value of the difference between the original value and the imputed value\n",
    "        difference.append(abs(tmp - asthma_df.loc[random_index[0], random_index[1]]))\n",
    "    k.append(sum(difference))"
   ]
  }
 ],
 "metadata": {
  "kernelspec": {
   "display_name": "base",
   "language": "python",
   "name": "python3"
  },
  "language_info": {
   "codemirror_mode": {
    "name": "ipython",
    "version": 3
   },
   "file_extension": ".py",
   "mimetype": "text/x-python",
   "name": "python",
   "nbconvert_exporter": "python",
   "pygments_lexer": "ipython3",
   "version": "3.9.12"
  },
  "orig_nbformat": 4
 },
 "nbformat": 4,
 "nbformat_minor": 2
}
