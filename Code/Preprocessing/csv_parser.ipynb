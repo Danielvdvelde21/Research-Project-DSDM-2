{
 "cells": [
  {
   "cell_type": "code",
   "execution_count": null,
   "metadata": {},
   "outputs": [],
   "source": [
    "import pandas as pd\n",
    "import csv "
   ]
  },
  {
   "cell_type": "code",
   "execution_count": null,
   "metadata": {},
   "outputs": [],
   "source": [
    "# Define cols\n",
    "colnames = [\"Index\",\"SubjectNr\",\"DayNo\",\"weekday\",\"dayType\",\"Age\",\"sex\",\"weight\",\"height\",\"BMI_SDS\",\"ethnicity\",\n",
    "           \"school_year_final\",\"sportsyesno\",\"urbanisation\",\"PedsQL_score_baseline\",\"stepsTotalDaily\",\"steps_hour_max\",\n",
    "           \"steps00\",\"steps01\",\"steps02\",\"steps03\",\"steps04\",\"steps05\",\"steps06\",\"steps07\",\"steps08\",\"steps09\",\"steps10\",\n",
    "           \"steps11\",\"steps12\",\"steps13\",\"steps14\",\"steps15\",\"steps16\",\"steps17\",\"steps18\",\"steps19\",\"steps20\",\"steps21\",\n",
    "           \"steps22\",\"steps23\",\"HR05Perc\",\"HR95Perc\",\"HRMinSleep\",\"HRMaxSleep\",\"AVGHR_daily\",\"AVGHR_sleep\",\"AVGHR_wake\",\n",
    "           \"HR00\",\"HR01\",\"HR02\",\"HR03\",\"HR04\",\"HR05\",\"HR06\",\"HR07\",\"HR08\",\"HR09\",\"HR10\",\"HR11\",\"HR12\",\"HR13\",\"HR14\",\"HR15\",\n",
    "           \"HR16\",\"HR17\",\"HR18\",\"HR19\",\"HR20\",\"HR21\",\"HR22\",\"HR23\",\"wear05H\",\"wear16H\",\"wear24H\",\"BODY_TEMPERATURE_DEG_C\",\n",
    "           \"DIASTOLIC_BLOOD_PRESSURE_MMHG\",\"HEART_PULSE_BPM\",\"SYSTOLIC_BLOOD_PRESSURE_MMHG\",\"WEIGHT_KG\",\"awakeDuration\",\n",
    "           \"lightSleepDuration\",\"deepSleepDuration\",\"wakeUpCount\",\"sleeptime\",\"waketime\",\"fvc_best\",\"fev1_best\",\"pef_best\",\n",
    "           \"grade_fev1\",\"grade_fvc\",\"predicted_fvc_best\",\"predicted_fev1_best\",\"predicted_fev1_ratio_best\",\"fev1_ratio_best\",\n",
    "           \"fev1_percentage\",\"fvc1_percentage\",\"fev1_ratio_percentage\",\"school_yes_no\",\"screentime\",\"FG\",\"FHX\",\"FHN\",\"TG\",\"TN\",\n",
    "           \"TX\",\"SQ\",\"SP\",\"DR\",\"RH\",\"RHX\"]\n",
    "\n",
    "# Load everything in\n",
    "rows = []\n",
    "with open(\"healthy_share.csv\") as file:\n",
    "    for l in csv.reader(file, quotechar='\"', delimiter=',', quoting=csv.QUOTE_ALL, skipinitialspace=True):\n",
    "        rows.append(''.join(l).split(','))\n",
    "\n",
    "# Removes colum list from data rows\n",
    "rows.pop(0)\n",
    "\n",
    "healthy_df = pd.DataFrame(rows, columns=colnames)"
   ]
  },
  {
   "cell_type": "code",
   "execution_count": null,
   "metadata": {},
   "outputs": [],
   "source": [
    "# This removes the \"\" in health csv file\n",
    "healthy_df = healthy_df.replace({r'\"': ''}, regex=True)"
   ]
  },
  {
   "cell_type": "code",
   "execution_count": null,
   "metadata": {},
   "outputs": [],
   "source": [
    "display(healthy_df)"
   ]
  },
  {
   "cell_type": "code",
   "execution_count": null,
   "metadata": {},
   "outputs": [],
   "source": [
    "healthy_df.to_csv('healthy_parsed.csv', index=False)"
   ]
  }
 ],
 "metadata": {
  "language_info": {
   "name": "python"
  },
  "orig_nbformat": 4
 },
 "nbformat": 4,
 "nbformat_minor": 2
}
