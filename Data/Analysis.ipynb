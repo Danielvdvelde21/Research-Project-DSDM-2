{
 "cells": [
  {
   "cell_type": "code",
   "execution_count": 1,
   "id": "564956b2",
   "metadata": {},
   "outputs": [],
   "source": [
    "import pandas as pd\n",
    "import csv "
   ]
  },
  {
   "cell_type": "code",
   "execution_count": 2,
   "id": "3edba11a",
   "metadata": {},
   "outputs": [],
   "source": [
    "# Astma XLSX to csv\n",
    "astma ='asthma_CF_share.xlsx'\n",
    "astmaXLSX = pd.read_excel(astma)\n",
    "astmaXLSX.to_csv('astma.csv', index = None, header=True)\n",
    "\n",
    "# Read csv\n",
    "astma_df = pd.read_csv('astma.csv')"
   ]
  },
  {
   "cell_type": "code",
   "execution_count": 3,
   "id": "549e0afe",
   "metadata": {},
   "outputs": [],
   "source": [
    "# Define cols\n",
    "colnames = [\"Index\",\"SubjectNr\",\"DayNo\",\"weekday\",\"dayType\",\"Age\",\"sex\",\"weight\",\"height\",\"BMI_SDS\",\"ethnicity\",\n",
    "           \"school_year_final\",\"sportsyesno\",\"urbanisation\",\"PedsQL_score_baseline\",\"stepsTotalDaily\",\"steps_hour_max\",\n",
    "           \"steps00\",\"steps01\",\"steps02\",\"steps03\",\"steps04\",\"steps05\",\"steps06\",\"steps07\",\"steps08\",\"steps09\",\"steps10\",\n",
    "           \"steps11\",\"steps12\",\"steps13\",\"steps14\",\"steps15\",\"steps16\",\"steps17\",\"steps18\",\"steps19\",\"steps20\",\"steps21\",\n",
    "           \"steps22\",\"steps23\",\"HR05Perc\",\"HR95Perc\",\"HRMinSleep\",\"HRMaxSleep\",\"AVGHR_daily\",\"AVGHR_sleep\",\"AVGHR_wake\",\n",
    "           \"HR00\",\"HR01\",\"HR02\",\"HR03\",\"HR04\",\"HR05\",\"HR06\",\"HR07\",\"HR08\",\"HR09\",\"HR10\",\"HR11\",\"HR12\",\"HR13\",\"HR14\",\"HR15\",\n",
    "           \"HR16\",\"HR17\",\"HR18\",\"HR19\",\"HR20\",\"HR21\",\"HR22\",\"HR23\",\"wear05H\",\"wear16H\",\"wear24H\",\"BODY_TEMPERATURE_DEG_C\",\n",
    "           \"DIASTOLIC_BLOOD_PRESSURE_MMHG\",\"HEART_PULSE_BPM\",\"SYSTOLIC_BLOOD_PRESSURE_MMHG\",\"WEIGHT_KG\",\"awakeDuration\",\n",
    "           \"lightSleepDuration\",\"deepSleepDuration\",\"wakeUpCount\",\"sleeptime\",\"waketime\",\"fvc_best\",\"fev1_best\",\"pef_best\",\n",
    "           \"grade_fev1\",\"grade_fvc\",\"predicted_fvc_best\",\"predicted_fev1_best\",\"predicted_fev1_ratio_best\",\"fev1_ratio_best\",\n",
    "           \"fev1_percentage\",\"fvc1_percentage\",\"fev1_ratio_percentage\",\"school_yes_no\",\"screentime\",\"FG\",\"FHX\",\"FHN\",\"TG\",\"TN\",\n",
    "           \"TX\",\"SQ\",\"SP\",\"DR\",\"RH\",\"RHX\"]\n",
    "\n",
    "# This removes the \"\" in health csv file\n",
    "rows = []\n",
    "with open(\"healthy_share.csv\") as file:\n",
    "    for l in csv.reader(file, quotechar='\"', delimiter=',', quoting=csv.QUOTE_ALL, skipinitialspace=True):\n",
    "        rows.append(''.join(l).split(','))\n",
    "\n",
    "# Removes colum list from data rows\n",
    "rows.pop(0)\n",
    "\n",
    "healthy_df = pd.DataFrame(rows, columns=colnames)\n"
   ]
  },
  {
   "cell_type": "code",
   "execution_count": 4,
   "id": "08d6ce1e",
   "metadata": {},
   "outputs": [
    {
     "name": "stdout",
     "output_type": "stream",
     "text": [
      "   Unnamed: 0  SubjectNr  DayNo weekday  dayType  stepsTotalDaily  \\\n",
      "0           1    1771258      0     Tue   school           3723.0   \n",
      "1           2    1771258      1     Wed   school          10015.0   \n",
      "2           3    1771258      2     Thu   school           3811.0   \n",
      "3           4    1771258      3     Fri   school           4346.0   \n",
      "4           5    1771258      4     Sat  weekend           3270.0   \n",
      "5           6    1771258      5     Sun  weekend           4697.0   \n",
      "6           7    1771258      6     Mon   school           4574.0   \n",
      "7           8    1771258      7     Tue   school           7244.0   \n",
      "8           9    1771258      8     Wed   school           9796.0   \n",
      "9          10    1771258      9     Thu   school           5447.0   \n",
      "\n",
      "   stepsTotalDetailed  steps00  steps01  steps02  ...  wear24H  wear16H  \\\n",
      "0              3723.0      NaN      NaN      NaN  ...     54.0     69.0   \n",
      "1             10015.0      NaN      NaN      NaN  ...    100.0    100.0   \n",
      "2              3811.0      NaN      NaN      NaN  ...    100.0    100.0   \n",
      "3              4346.0      NaN      NaN      NaN  ...    100.0    100.0   \n",
      "4              3270.0      NaN      NaN      NaN  ...    100.0    100.0   \n",
      "5              4697.0      NaN      NaN      NaN  ...    100.0    100.0   \n",
      "6              4548.0      NaN      NaN      NaN  ...    100.0    100.0   \n",
      "7              7244.0      NaN      NaN      NaN  ...    100.0    100.0   \n",
      "8              9687.0      NaN      NaN      NaN  ...    100.0    100.0   \n",
      "9              5447.0      NaN      NaN      NaN  ...    100.0    100.0   \n",
      "\n",
      "   steps15_19  week  steps_hour_max  AVGHR_daily  AVGHR_wake  AVGHR_sleep  \\\n",
      "0         NaN   1.0          1640.0         90.0        94.0          NaN   \n",
      "1      2061.0   1.0          4355.0         94.0       102.0         76.0   \n",
      "2      1384.0   1.0           727.0         90.0        96.0         77.0   \n",
      "3      1117.0   1.0           673.0         88.0        93.0         75.0   \n",
      "4       422.0   1.0          1324.0         81.0        83.0         77.0   \n",
      "5         NaN   1.0          2371.0         81.0        87.0         66.0   \n",
      "6      1654.0   1.0           645.0         84.0        90.0         71.0   \n",
      "7      1619.0   1.0          1248.0         87.0        95.0         70.0   \n",
      "8      1492.0   2.0          4508.0         85.0        92.0         71.0   \n",
      "9      2640.0   2.0          1309.0         85.0        92.0         68.0   \n",
      "\n",
      "           CONDITION  EventDay  \n",
      "0  Controlled asthma       NaN  \n",
      "1  Controlled asthma       NaN  \n",
      "2  Controlled asthma       NaN  \n",
      "3  Controlled asthma       NaN  \n",
      "4  Controlled asthma       NaN  \n",
      "5  Controlled asthma       NaN  \n",
      "6  Controlled asthma       NaN  \n",
      "7  Controlled asthma       NaN  \n",
      "8  Controlled asthma       NaN  \n",
      "9  Controlled asthma       NaN  \n",
      "\n",
      "[10 rows x 214 columns]\n"
     ]
    }
   ],
   "source": [
    "print(astma_df.head(10))"
   ]
  },
  {
   "cell_type": "code",
   "execution_count": 5,
   "id": "1aa2c7bc",
   "metadata": {},
   "outputs": [
    {
     "name": "stdout",
     "output_type": "stream",
     "text": [
      "  Index SubjectNr DayNo weekday    dayType Age       sex weight height  \\\n",
      "0     1   2853189     0   \"Thu\"  \"holiday\"   2  \"Female\"     12     92   \n",
      "1     2   2853189     1   \"Fri\"  \"holiday\"   2  \"Female\"     12     92   \n",
      "2     3   2853189     2   \"Sat\"  \"holiday\"   2  \"Female\"     12     92   \n",
      "3     4   2853189     3   \"Sun\"  \"holiday\"   2  \"Female\"     12     92   \n",
      "4     5   2853189     4   \"Mon\"   \"school\"   2  \"Female\"     12     92   \n",
      "5     6   2853189     5   \"Tue\"   \"school\"   2  \"Female\"     12     92   \n",
      "6     7   2853189     6   \"Wed\"   \"school\"   2  \"Female\"     12     92   \n",
      "7     8   2853189     7   \"Thu\"   \"school\"   2  \"Female\"     12     92   \n",
      "8     9   2853189     8   \"Fri\"   \"school\"   2  \"Female\"     12     92   \n",
      "9    10   2853189     9   \"Sat\"  \"weekend\"   2  \"Female\"     12     92   \n",
      "\n",
      "  BMI_SDS  ... FHX FHN   TG   TN   TX   SQ  SP   DR  RH RHX  \n",
      "0    -1.8  ...   8   4  5.2  3.4  7.5    2  25  1.9   9   2  \n",
      "1    -1.8  ...   9   4  5.9  4.4  7.2    0   0    0  -1  -1  \n",
      "2    -1.8  ...  11   8  7.1    6  7.8    0   0  0.2   1   1  \n",
      "3    -1.8  ...   8   1  6.4  4.5    7    0   0    0  -1  -1  \n",
      "4    -1.8  ...  14   1    8  4.7  9.8    0   0  0.6   3   1  \n",
      "5    -1.8  ...  17  13  7.3  4.7  8.4  0.6   7  1.7  37  26  \n",
      "6    -1.8  ...  15  10  5.8  3.8  7.5  3.5  44  1.7  13   5  \n",
      "7    -1.8  ...  10   0  4.7  3.1  5.8    0   0  6.3  19   4  \n",
      "8    -1.8  ...  10   4  7.2  5.8  8.4  2.2  27  4.1  12   6  \n",
      "9    -1.8  ...  11   6  7.7  6.8  8.3    0   0  2.1   5   3  \n",
      "\n",
      "[10 rows x 111 columns]\n"
     ]
    }
   ],
   "source": [
    "print(healthy_df.head(10))"
   ]
  },
  {
   "cell_type": "code",
   "execution_count": 6,
   "id": "0a0e3698",
   "metadata": {},
   "outputs": [
    {
     "name": "stdout",
     "output_type": "stream",
     "text": [
      "variables in common:\n",
      "Length: 91\n",
      "{'HR10', 'DayNo', 'TG', 'steps12', 'HR05', 'HR19', 'HR03', 'HR11', 'steps04', 'HRMaxSleep', 'FHN', 'steps18', 'HR21', 'AVGHR_sleep', 'HR95Perc', 'HR22', 'steps06', 'awakeDuration', 'grade_fvc', 'wakeUpCount', 'Age', 'steps08', 'HR06', 'fvc1_percentage', 'HR20', 'TN', 'steps23', 'lightSleepDuration', 'steps07', 'steps22', 'HR16', 'HR23', 'DR', 'steps15', 'HR13', 'TX', 'steps00', 'steps_hour_max', 'pef_best', 'fvc_best', 'HR09', 'weekday', 'steps05', 'steps01', 'HR02', 'HR12', 'steps09', 'FHX', 'fev1_ratio_percentage', 'HR05Perc', 'steps21', 'deepSleepDuration', 'steps17', 'steps11', 'SQ', 'HR01', 'steps14', 'RH', 'HR17', 'steps19', 'steps10', 'AVGHR_wake', 'fev1_ratio_best', 'RHX', 'BMI_SDS', 'HRMinSleep', 'HR15', 'dayType', 'HR14', 'steps03', 'fev1_percentage', 'wear16H', 'fev1_best', 'HR04', 'FG', 'AVGHR_daily', 'HR07', 'school_yes_no', 'HR18', 'HR08', 'steps02', 'steps13', 'steps20', 'stepsTotalDaily', 'HR00', 'wear24H', 'steps16', 'SP', 'SubjectNr', 'screentime', 'grade_fev1'}\n",
      "\n",
      "variables exclusive to astma patients:\n",
      "Length: 143\n",
      "{'wear13', 'EOS_bodyimage_tot', 'wear02', 'ACD6', 'activity_score_parent', 'sleeptime', 'SchoolYear', 'wear14', 'EOS_school_tot', 'AllergicRhin', 'wear22', 'ACD6_use', 'wear00', 'ACD5', 'wear06', 'ACD1', 'ACD3', 'EOS_weight_tot', 'steps15_19', 'BirthMonth', 'Hospital_Trt', 'EOS_PAQLQ_activity', 'wear21', 'EOS_PAQLQ_emotion', 'week', 'ACD4', 'wear23', 'Technique', 'waketime', 'BASELINE_PAQLQ_activity', 'Monoclonals', 'totalSleepDuration', 'PM10', 'SABA', 'Urbanisation', 'Sports', 'BirthYear', 'OtherClass', 'CF_Asthma', 'O3', 'BASELINE_bodyimage_tot', 'Family_his', 'BODY_TEMPERATURE_DEG_C', 'Gender', 'wear18', 'Index', 'predicted_fev1_ratio_best', 'BASELINE_ACQ6_score', 'wear16', 'BASELINE_weight_tot', 'SmokeHome', 'wear08', 'waketimeReport', 'EOS_treatmentburden_tot', 'HRAvgSleep', 'AgeDiagnosis', 'BMI', 'Dis_Chronic', 'Pseudomonas', 'ACD6score', 'EOS_PAQLQ_total', 'CONDITION', 'wear17', 'NO', 'predicted_fvc_best', 'PetsHome', 'sleep_score_child', 'wear05H', 'wear15', 'BASELINE_respiratory_tot', 'ExerciseSymp', 'wear05', 'EOS_digestion_tot', 'PM25', 'BASELINE_digestion_tot', 'Leukotri_Mod', 'urbanisation2', 'wear19', 'PedsQL_score_baseline', 'BASELINE_health_tot', 'sex', 'predicted_fev1_best', 'BASELINE_PAQLQ_emotion', 'BASELINE_physical_tot', 'BASELINE_treatmentburden_tot', 'BASELINE_school_tot', 'EOS_PedsQL_score', 'activity_score_child', 'EOS_health_tot', 'wear07', 'DayCare', 'HrAvgWake', 'urbanisation', 'Oral_Steroid', 'EOS_respiratory_tot', 'Eosinophils', 'EOS_emotional_tot', 'EventDay', 'wear10', 'AtopicAsthma', 'LABA', 'HEART_PULSE_BPM', 'height', 'sportsyesno', 'BASELINE_emotional_tot', 'wear12', 'ICS', 'school_year_final', 'Unnamed: 0', 'BASELINE_PAQLQ_symptoms', 'wear03', 'Height', 'wear04', 'pollenTotal', 'DailyActiv', 'NO2', 'Symptomscore', 'Weight', 'wear11', 'ethnicity', 'bedtimeReport', 'wear09', 'BASELINE_PedsQL_score', 'SYSTOLIC_BLOOD_PRESSURE_MMHG', 'Admission_LY', 'wear01', 'EOS_PAQLQ_symptoms', 'BASELINE_PAQLQ_total', 'Hosp_treatme', 'PancrInsuffi', 'stepsTotalDetailed', 'school_year_edit', 'EOS_physical_tot', 'DIASTOLIC_BLOOD_PRESSURE_MMHG', 'weight', 'ACD2', 'Serum_IgE', 'wear20', 'WEIGHT_KG', 'Vaccination', 'Ox', 'Nox', 'EOS_ACQ6_score'}\n"
     ]
    }
   ],
   "source": [
    "astma_cols = astma_df.columns.tolist()\n",
    "healthy_cols = healthy_df.columns.tolist()\n",
    "\n",
    "common_list = set(astma_cols).intersection(healthy_cols)\n",
    "print(\"variables in common:\")\n",
    "print(\"Length: \" + str(len(common_list)))\n",
    "print(common_list)\n",
    "print()\n",
    "\n",
    "print(\"variables exclusive to astma patients:\")\n",
    "exclusive_list = set(astma_cols).symmetric_difference(set(healthy_cols))\n",
    "print(\"Length: \" + str(len(exclusive_list)))\n",
    "print(exclusive_list)"
   ]
  },
  {
   "cell_type": "code",
   "execution_count": null,
   "id": "bd63aa1e",
   "metadata": {},
   "outputs": [],
   "source": [
    "# Todo \n",
    "# How to fill 141 columns to healthy patients? There is a great missmatch in data"
   ]
  },
  {
   "cell_type": "code",
   "execution_count": null,
   "id": "d30a5867",
   "metadata": {},
   "outputs": [],
   "source": [
    "# DEA"
   ]
  }
 ],
 "metadata": {
  "kernelspec": {
   "display_name": "Python 3 (ipykernel)",
   "language": "python",
   "name": "python3"
  },
  "language_info": {
   "codemirror_mode": {
    "name": "ipython",
    "version": 3
   },
   "file_extension": ".py",
   "mimetype": "text/x-python",
   "name": "python",
   "nbconvert_exporter": "python",
   "pygments_lexer": "ipython3",
   "version": "3.8.8"
  }
 },
 "nbformat": 4,
 "nbformat_minor": 5
}
